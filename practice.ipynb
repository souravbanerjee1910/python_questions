{
 "cells": [
  {
   "cell_type": "code",
   "execution_count": 21,
   "id": "29de6758",
   "metadata": {},
   "outputs": [
    {
     "name": "stdout",
     "output_type": "stream",
     "text": [
      "[11, 45, 1, 2, 4, 6, 1]\n",
      "[80, 11, 45, 1, 2, 4, 6, 1, 80]\n"
     ]
    }
   ],
   "source": [
    "l=[11,45,1,2,4,6,1]\n",
    "\n",
    "print(l)\n",
    "\n",
    "l.append(80)\n",
    "\n",
    "# l[0]=80\n",
    "l.insert(0,80)\n",
    "print(l)"
   ]
  },
  {
   "cell_type": "code",
   "execution_count": 24,
   "id": "019164ee",
   "metadata": {},
   "outputs": [
    {
     "name": "stdout",
     "output_type": "stream",
     "text": [
      "<class 'tuple'>\n",
      "<class 'tuple'>\n"
     ]
    }
   ],
   "source": [
    "tup=(1,2,3,4,5,6)\n",
    "print(type(tup))\n",
    "\n",
    "marks=(1,)\n",
    "print(type(marks))"
   ]
  },
  {
   "cell_type": "code",
   "execution_count": null,
   "id": "9f3a9be0",
   "metadata": {},
   "outputs": [
    {
     "name": "stdout",
     "output_type": "stream",
     "text": [
      "4.47213595499958\n"
     ]
    }
   ],
   "source": [
    "#square root of a given number\n",
    "\n",
    "square_root=int(input(\"Enter a number:\"))\n",
    "print(square_root**(1/2))"
   ]
  },
  {
   "cell_type": "code",
   "execution_count": 3,
   "id": "39dd4783",
   "metadata": {},
   "outputs": [
    {
     "name": "stdout",
     "output_type": "stream",
     "text": [
      "10.0\n"
     ]
    }
   ],
   "source": [
    "#using maths function\n",
    "import math\n",
    "square_root=int(input(\"Enter a number:\"))\n",
    "print(math.sqrt(square_root))"
   ]
  },
  {
   "cell_type": "code",
   "execution_count": 4,
   "id": "0ff2543d",
   "metadata": {},
   "outputs": [
    {
     "name": "stdout",
     "output_type": "stream",
     "text": [
      "area is : 200.0\n"
     ]
    }
   ],
   "source": [
    "#calculate the area of triangle\n",
    "#formula: (1/2)*base*height\n",
    "area=0.0\n",
    "base=float(input(\"enter base :\"))\n",
    "height=float(input(\"enter height :\"))\n",
    "\n",
    "area=(1/2)*base*height\n",
    "print(\"area is :\",area)\n"
   ]
  },
  {
   "cell_type": "code",
   "execution_count": 6,
   "id": "bc727674",
   "metadata": {},
   "outputs": [
    {
     "name": "stdout",
     "output_type": "stream",
     "text": [
      "before swapping\n",
      "first num: 25 second num: 30\n",
      "after swapping\n",
      "first num: 30 second num: 25\n"
     ]
    }
   ],
   "source": [
    "#swapping of 2 numbers without 3rd var\n",
    "num1=int(input(\"enter first num :\"))\n",
    "num2=int(input(\"enter second num :\"))\n",
    "print(\"before swapping\")\n",
    "print(\"first num:\",num1,\"second num:\",num2)\n",
    "\n",
    "num1,num2=num2,num1\n",
    "print(\"after swapping\")\n",
    "print(\"first num:\",num1,\"second num:\",num2)\n"
   ]
  },
  {
   "cell_type": "code",
   "execution_count": null,
   "id": "f647fcb3",
   "metadata": {},
   "outputs": [
    {
     "name": "stdout",
     "output_type": "stream",
     "text": [
      "it's nuteral\n"
     ]
    }
   ],
   "source": [
    "#check if a number is positive or negative\n",
    "\n",
    "num=int(input(\"enter a num :\"))\n",
    "if num == 0:\n",
    "    print(\"it's nuteral\")\n",
    "elif num > 0:\n",
    "    print(\"positive\")\n",
    "else:\n",
    "    print(\"negative\")    \n",
    "    "
   ]
  },
  {
   "cell_type": "code",
   "execution_count": 16,
   "id": "6b4d9321",
   "metadata": {},
   "outputs": [
    {
     "name": "stdout",
     "output_type": "stream",
     "text": [
      "odd:5\n"
     ]
    }
   ],
   "source": [
    "#check if a number is odd or even\n",
    "\n",
    "num = int(input(\"enter a num\"))\n",
    "\n",
    "if num % 2 == 0:\n",
    "    print(f\"even:{num}\")\n",
    "else:print(f\"odd:{num}\")    "
   ]
  },
  {
   "cell_type": "code",
   "execution_count": 22,
   "id": "4efd1307",
   "metadata": {},
   "outputs": [
    {
     "name": "stdout",
     "output_type": "stream",
     "text": [
      "Not a Leap Year\n"
     ]
    }
   ],
   "source": [
    "#check if leap year or not \n",
    "#so how do we get a leap year \n",
    "#year % 4 == 0 and year % 400 == 0 but year % 100 ! == 0 --> leap year else not a leap year \n",
    "\n",
    "\n",
    "year=int(input(\"enter a year :\"))\n",
    "if year % 4 == 0:\n",
    "    if year % 100 == 0:\n",
    "        if year % 400 == 0:\n",
    "            print(\"LEAP YEAR\")            \n",
    "        else:\n",
    "            print(\"Not a Leap Year\") \n",
    "    else:\n",
    "        print(\"Leap Year\")  \n",
    "else:\n",
    "    print(\"Not a Leap Year\")\n",
    "                 \n",
    "        "
   ]
  },
  {
   "cell_type": "code",
   "execution_count": 29,
   "id": "be964ae2",
   "metadata": {},
   "outputs": [
    {
     "name": "stdout",
     "output_type": "stream",
     "text": [
      "num1 is greater 5\n"
     ]
    }
   ],
   "source": [
    "#find the largest num\n",
    "num1=int(input(\"enter a num :\"))\n",
    "num2=int(input(\"enter second num :\"))\n",
    "num3=int(input(\"enter third num :\"))\n",
    "\n",
    "if num1>num2:\n",
    "    print(\"num1 is greater\",num1)\n",
    "elif num2>num3:\n",
    "    print(\"num2 is greater\",num2)\n",
    "else:\n",
    "    print(\"num3 is greater\",num3)        "
   ]
  },
  {
   "cell_type": "code",
   "execution_count": 46,
   "id": "bd5c81e3",
   "metadata": {},
   "outputs": [
    {
     "name": "stdout",
     "output_type": "stream",
     "text": [
      "not a prime\n"
     ]
    }
   ],
   "source": [
    "#check if number is prime or not\n",
    "\n",
    "num=int(input(\"enter a num :\"))\n",
    "if num==1:\n",
    "    print(\"prime\")\n",
    "\n",
    "elif num>1:\n",
    "    for i in range(2,num):\n",
    "        if num % i == 0:\n",
    "            print(\"not prime\")\n",
    "            break\n",
    "        else:\n",
    "            print(\"prime\")    \n",
    "            break\n",
    "else:print(\"not a prime\")        "
   ]
  },
  {
   "cell_type": "code",
   "execution_count": 66,
   "id": "d9ab4839",
   "metadata": {},
   "outputs": [
    {
     "name": "stdout",
     "output_type": "stream",
     "text": [
      "factorial 1 is : 1\n"
     ]
    }
   ],
   "source": [
    "#factorial of a num \n",
    "def fact(num):\n",
    "    factorial=1\n",
    "    if num >0:\n",
    "        if num ==0:print(\"factorial 0 is :\",1)\n",
    "        for i in range (1,num+1):\n",
    "            factorial=factorial*i \n",
    "            print(\"factorial\",i,\"is :\",factorial) \n",
    "                  \n",
    "fact(1)"
   ]
  },
  {
   "cell_type": "code",
   "execution_count": 86,
   "id": "6629b1fa",
   "metadata": {},
   "outputs": [
    {
     "name": "stdout",
     "output_type": "stream",
     "text": [
      "Updated list: [1, '@', 3, '@', '@', 3, '@', '@', '@', 55]\n"
     ]
    }
   ],
   "source": [
    "#given list contains int ele replace all even index ele with symbol\"@\" \n",
    "l = [1,2,3,444, 2, 3, 4, 4, 56, 55]\n",
    "\n",
    "for i in range(len(l)):\n",
    "    if l[i] % 2 == 0:\n",
    "        l[i] = \"@\"\n",
    "\n",
    "print(\"Updated list:\", l)"
   ]
  },
  {
   "cell_type": "code",
   "execution_count": 95,
   "id": "24cdd3b7",
   "metadata": {},
   "outputs": [
    {
     "name": "stdout",
     "output_type": "stream",
     "text": [
      "Updated list: [1, 2, 'even', 3, 4, 'even']\n"
     ]
    }
   ],
   "source": [
    "#  Add an Element After Every Even Number\n",
    "# Add \"even\" after every even number\n",
    "# Output: [1, 2, 'even', 3, 4, 'even']\n",
    "i=0\n",
    "l = [1, 2, 3, 4]\n",
    "\n",
    "while i in range(len(l)):\n",
    "    if l[i] % 2 == 0:\n",
    "        l.insert(i+1,\"even\")\n",
    "        i+=1\n",
    "    i += 1    \n",
    "print(\"Updated list:\",l)         \n",
    "\n"
   ]
  },
  {
   "cell_type": "code",
   "execution_count": null,
   "id": "82d386b7",
   "metadata": {},
   "outputs": [
    {
     "name": "stdout",
     "output_type": "stream",
     "text": [
      "[1, 2, 5, 3, 4]\n"
     ]
    }
   ],
   "source": [
    "# Remove All Duplicates Without Using set() | O(n^2) solution\n",
    "# in this solution order is preserved \n",
    "\n",
    "l = [1, 2, 2 , 5, 3, 4, 4, 5]\n",
    "# Output: [1, 2, 3, 4, 5]\n",
    "new_l=[]\n",
    "for i in l :\n",
    "    if i not in new_l:\n",
    "         new_l.append(i)\n",
    "print(new_l)        "
   ]
  },
  {
   "cell_type": "code",
   "execution_count": null,
   "id": "48cd5bc1",
   "metadata": {},
   "outputs": [
    {
     "name": "stdout",
     "output_type": "stream",
     "text": [
      "new list : [1, 2, 3, 4, 5]\n"
     ]
    }
   ],
   "source": [
    "# Remove All Duplicates Without Using set() | (n log n) solution\n",
    "l = [1, 2, 2 , 5, 3, 4, 4, 5]\n",
    "# Output: [1, 2, 3, 4, 5]\n",
    "l.sort()\n",
    "new_l=[l[0]]\n",
    "for i in range(1,len(l)):\n",
    "    if l[i]!= l[i-1]:\n",
    "        new_l.append(l[i])\n",
    "        \n",
    "print(\"new list :\",new_l)          "
   ]
  },
  {
   "cell_type": "code",
   "execution_count": null,
   "id": "8a9ca289",
   "metadata": {},
   "outputs": [],
   "source": [
    "#3some\n",
    "\n",
    "def threeSome(nums,target):\n",
    "    n=len(nums)\n",
    "    for i in range(n):\n",
    "        for j in range(i+1,n):\n",
    "            for k in range (j+1,n):\n",
    "                if nums[i] + nums[j] + nums[k] == target:\n",
    "                    return [i,j,k]                    \n",
    "                    \n",
    "res=threeSome(nums=[2,3,4,5,5,6,6],target=10) \n",
    "print(res)"
   ]
  },
  {
   "cell_type": "code",
   "execution_count": 96,
   "id": "e7eec851",
   "metadata": {},
   "outputs": [
    {
     "name": "stdout",
     "output_type": "stream",
     "text": [
      "before swapping [1, 2, 3, 4, 5]\n",
      "after swapping [5, 2, 3, 4, 1]\n"
     ]
    }
   ],
   "source": [
    "#python program to interchange first and last element in a list\n",
    "\n",
    "l=[1,2,3,4,5]\n",
    "#expected output [5,2,3,4,1]\n",
    "\n",
    "print(\"before swapping\",l)\n",
    "l[0],l[-1]=l[-1],l[0]\n",
    "print(\"after swapping\",l)"
   ]
  },
  {
   "cell_type": "code",
   "execution_count": 97,
   "id": "63e4d06c",
   "metadata": {},
   "outputs": [
    {
     "name": "stdout",
     "output_type": "stream",
     "text": [
      "['hello', 'can', 'i', 'help', 'you', '?']\n"
     ]
    }
   ],
   "source": [
    "#python program to remove nth occurence of given word\n",
    "\n",
    "#['hello','can','i','help','you','?','help']\n",
    "lst=list(map(str,input().split()))\n",
    "word=input(\"enter the word\")\n",
    "occur=int(input(\"enter the occurance\"))\n",
    "count=0\n",
    "result=[]\n",
    "for i in lst:\n",
    "    if i == word:\n",
    "        count+=1\n",
    "        if (count!=occur):\n",
    "            result.append(i)\n",
    "    else:\n",
    "        result.append(i)\n",
    "lst=result\n",
    "if count==0:\n",
    "    print(\"Element not found!\")\n",
    "else:\n",
    "    print(lst)        \n",
    "                 \n",
    "                "
   ]
  },
  {
   "cell_type": "code",
   "execution_count": 99,
   "id": "5badca1f",
   "metadata": {},
   "outputs": [
    {
     "name": "stdout",
     "output_type": "stream",
     "text": [
      "varuos\n"
     ]
    }
   ],
   "source": [
    "# Reverse a string without using built-in reverse().\n",
    "\n",
    "s=\"sourav\"\n",
    "s=s[::-1]\n",
    "print(s)"
   ]
  },
  {
   "cell_type": "code",
   "execution_count": null,
   "id": "7e89165c",
   "metadata": {},
   "outputs": [
    {
     "name": "stdout",
     "output_type": "stream",
     "text": [
      "min num 0\n",
      "max num 66\n"
     ]
    }
   ],
   "source": [
    "# Find the maximum & minimum in a list.\n",
    "\n",
    "lst=[1,2,5,4,7,8,5,7,66,55]\n",
    "max_num=0\n",
    "min_num=0\n",
    "for i in lst:\n",
    "    if i>max_num:\n",
    "        max_num=i\n",
    "    elif i<min_num:\n",
    "        min_num=i  \n",
    "print(\"min num>>\",min_num)         \n",
    "print(\"max num>>\",max_num)         \n",
    "    "
   ]
  },
  {
   "cell_type": "code",
   "execution_count": null,
   "id": "e9aba592",
   "metadata": {},
   "outputs": [
    {
     "name": "stdout",
     "output_type": "stream",
     "text": [
      "Palindrome String : madam\n"
     ]
    }
   ],
   "source": [
    "#check the given string is palindrome or not\n",
    "\n",
    "\n",
    "def check_palindrome(given_String):\n",
    "    cleaned_string=given_String.replace(\" \",\"\")\n",
    "    cleaned_string=cleaned_string.lower()\n",
    "    reversed_str=cleaned_string[::-1]\n",
    "    if reversed_str==cleaned_string:\n",
    "        print(\"Palindrome String :\",given_String)\n",
    "    else:print(\"not a Plaindrome String :\",given_String)    \n",
    "        \n",
    "\n",
    "check_palindrome(\"madam\")    "
   ]
  },
  {
   "cell_type": "code",
   "execution_count": 144,
   "id": "1dc7451e",
   "metadata": {},
   "outputs": [
    {
     "name": "stdout",
     "output_type": "stream",
     "text": [
      "[1, 2, 4, 5]\n"
     ]
    }
   ],
   "source": [
    "# Remove duplicates from a list.\n",
    "\n",
    "lst1=[1,2,5,4,4,5,2]\n",
    "newlst=set(lst1)\n",
    "newlst=list(newlst)\n",
    "print(newlst)"
   ]
  },
  {
   "cell_type": "code",
   "execution_count": 145,
   "id": "00ec5fff",
   "metadata": {},
   "outputs": [
    {
     "name": "stdout",
     "output_type": "stream",
     "text": [
      "[1, 2, 3, 4, 5, 6, 7]\n"
     ]
    }
   ],
   "source": [
    "# Merge two sorted lists into one sorted list.\n",
    "\n",
    "lst1=[1,2,3,4]\n",
    "lst2=[5,6,7]\n",
    "newlst=lst1[::]+lst2[::]\n",
    "print(newlst)"
   ]
  },
  {
   "cell_type": "code",
   "execution_count": 18,
   "id": "84be541a",
   "metadata": {},
   "outputs": [
    {
     "name": "stdout",
     "output_type": "stream",
     "text": [
      "<class 'int'>\n"
     ]
    }
   ],
   "source": [
    "# Find the missing number in an array from 1 to N.\n",
    "inp=int(input(\"enter a range: \"))\n",
    "print(type(inp))\n",
    "\n",
    "\n"
   ]
  },
  {
   "cell_type": "code",
   "execution_count": 5,
   "id": "43735fa3",
   "metadata": {},
   "outputs": [
    {
     "name": "stdout",
     "output_type": "stream",
     "text": [
      "['p', 'g', 'n', 'i', 'r', 'm', 'o', 'a']\n"
     ]
    }
   ],
   "source": [
    "#  Find all unique characters in a string (case-insensitive)\n",
    "s=\"Programming\"\n",
    "new_string=list(set(s.lower()))\n",
    "print(new_string)\n"
   ]
  },
  {
   "cell_type": "code",
   "execution_count": 7,
   "id": "7107cf7f",
   "metadata": {},
   "outputs": [
    {
     "name": "stdout",
     "output_type": "stream",
     "text": [
      "[1, 2, 3, 4, 5, 6]\n"
     ]
    }
   ],
   "source": [
    "# nested = [[1, 2], [3, 4], [5, 6]]\n",
    "# Expected output: [1, 2, 3, 4, 5, 6]\n",
    "\n",
    "nested = [[1, 2], [3, 4], [5, 6]]\n",
    "flatned=[]\n",
    "\n",
    "for i in nested:\n",
    "    for j in i:\n",
    "        flatned.append(j)\n",
    "print(flatned)        "
   ]
  },
  {
   "cell_type": "code",
   "execution_count": null,
   "id": "e1c06599",
   "metadata": {},
   "outputs": [
    {
     "name": "stdout",
     "output_type": "stream",
     "text": [
      "nohtyp si ysae\n"
     ]
    }
   ],
   "source": [
    "words=\"python is easy\"\n",
    "#output=\"nohtyp si ysae\"\n",
    "words=words.split()\n",
    "reversed_str=[]\n",
    "for word in words:\n",
    "    reversed_str.append(word[::-1])\n",
    "reversed_str=\" \".join(reversed_str)\n",
    "print(reversed_str)\n",
    "    "
   ]
  },
  {
   "cell_type": "code",
   "execution_count": 16,
   "id": "f8e9a10c",
   "metadata": {},
   "outputs": [
    {
     "name": "stdout",
     "output_type": "stream",
     "text": [
      "Duplicates: [2, 3]\n"
     ]
    }
   ],
   "source": [
    "#write a python program to print duplicates present in a list \n",
    "l1=[1,2,2,3,3,4,5,6]\n",
    "final=[]\n",
    "pin=None\n",
    "for i in l1:\n",
    "    if i == pin and i not in final:\n",
    "        final.append(i)\n",
    "    pin=i\n",
    "print(\"Duplicates:\", final)"
   ]
  },
  {
   "cell_type": "code",
   "execution_count": 26,
   "id": "1d32058b",
   "metadata": {},
   "outputs": [
    {
     "name": "stdout",
     "output_type": "stream",
     "text": [
      "Duplicates: ['hello', 2, 4]\n"
     ]
    }
   ],
   "source": [
    "#write a python program to print duplicates present in a list \n",
    "l1=[\"hello\",1,2,3,4,2,4,2,5,7,8,6,\"hello\"]\n",
    "l2=[]\n",
    "\n",
    "for i in l1:\n",
    "    if l1.count(i)>1 and i not in l2:\n",
    "        l2.append(i)\n",
    "print(\"Duplicates:\",l2)    "
   ]
  },
  {
   "cell_type": "code",
   "execution_count": 41,
   "id": "9aaa8f3e",
   "metadata": {},
   "outputs": [
    {
     "name": "stdout",
     "output_type": "stream",
     "text": [
      "3 vowels: ['o', 'u', 'a']\n"
     ]
    }
   ],
   "source": [
    "#wap to check number of vowels in a string \n",
    "str1=\"sourav\"\n",
    "vowel= ['a', 'e', 'i', 'o', 'u']\n",
    "str2=[]\n",
    "for i in str1:\n",
    "    if i in vowel and i not in str2:\n",
    "        str2.append(i)\n",
    "print(len(str2),\"vowels:\",str2)    "
   ]
  },
  {
   "cell_type": "code",
   "execution_count": null,
   "id": "44bf6b64",
   "metadata": {},
   "outputs": [
    {
     "name": "stdout",
     "output_type": "stream",
     "text": [
      "NA\n"
     ]
    }
   ],
   "source": [
    "#write a program to find list of element occured N times return NA if none\n",
    "\n",
    "text=input(\"enter a string:\").split()\n",
    "occurance=int(input(\"enter occurance:\"))\n",
    "final_dict=dict()\n",
    "final_lst=[]\n",
    "\n",
    "for i in text:\n",
    "    if i in final_dict:\n",
    "        final_dict[i]+=1\n",
    "    else:\n",
    "        final_dict[i]=1\n",
    "\n",
    "for k in final_dict:\n",
    "    if final_dict[k]>=occurance:\n",
    "        final_lst.append(k)\n",
    "    \n",
    "if len(final_lst)>0:\n",
    "    print(f\"{final_lst} occured:{occurance}\")\n",
    "else:\n",
    "    print(\"NA\")"
   ]
  },
  {
   "cell_type": "code",
   "execution_count": 47,
   "id": "e6daa788",
   "metadata": {},
   "outputs": [
    {
     "name": "stdout",
     "output_type": "stream",
     "text": [
      "['@', 11, '@', 13, '@', 15]\n"
     ]
    }
   ],
   "source": [
    "l = [10, 11, 12, 13, 14, 15]\n",
    "# Replace even numbers with \"@\" symbol using a loop.\n",
    "\n",
    "for i in range (len(l)):\n",
    "    if l[i] % 2 == 0:\n",
    "        l[i]='@'\n",
    "print(l)        \n"
   ]
  },
  {
   "cell_type": "code",
   "execution_count": 57,
   "id": "59b4141f",
   "metadata": {},
   "outputs": [
    {
     "name": "stdout",
     "output_type": "stream",
     "text": [
      "DGIL1479\n"
     ]
    }
   ],
   "source": [
    "# write a python program to sort characters and numbers so that first alphabets and then numbers are printed\n",
    "# input: A1B2C3D4\n",
    "# output:ABCD1234\n",
    "\n",
    "str1=\"G1I9L4D7\"\n",
    "numbers=[] \n",
    "alphabets=[]\n",
    "\n",
    "for ch in str1:\n",
    "    if ch.isalpha():\n",
    "        alphabets.append(ch)\n",
    "    else:\n",
    "        numbers.append(ch)\n",
    "\n",
    "\n",
    "output=(sorted(alphabets)+sorted(numbers))   \n",
    "output=''.join(output) \n",
    "print(output)        \n"
   ]
  },
  {
   "cell_type": "markdown",
   "id": "bbee56ee",
   "metadata": {},
   "source": [
    "!DSA starts below this part\n",
    "\n",
    "**Sortings**\n"
   ]
  },
  {
   "cell_type": "code",
   "execution_count": null,
   "id": "c566cf32",
   "metadata": {},
   "outputs": [],
   "source": [
    "# Selection sort \n",
    "# Time complexity is O(n^2)\n",
    "# Space complexity is O(1)\n",
    "\n",
    "def selection_sort(nums):\n",
    "    n=len(nums)\n",
    "    for i in range(0,n):\n",
    "        min_ind=i\n",
    "        for j in range(i+1,n):\n",
    "            if nums[j] < nums [min_ind]:\n",
    "                min_ind=j\n",
    "        nums[i],nums[min_ind] = nums[min_ind],nums[i]      \n",
    "    return nums\n",
    "nums=[1,4,5,4,2,8,10,3,7]\n",
    "print(selection_sort(nums))  "
   ]
  },
  {
   "cell_type": "code",
   "execution_count": 58,
   "id": "79b3545f",
   "metadata": {},
   "outputs": [
    {
     "name": "stdout",
     "output_type": "stream",
     "text": [
      "[1, 3, 4, 5, 6, 7, 20]\n"
     ]
    }
   ],
   "source": [
    "#bubble sort\n",
    "# Time complexity is O(n^2)\n",
    "# Space complexity is O(1)\n",
    "\n",
    "ele=[20,3,1,5,6,7,4]\n",
    "\n",
    "def bubble_sort(num):\n",
    "    n=len(num)\n",
    "    flag=True\n",
    "    while flag:\n",
    "        flag=False\n",
    "        for i in range (1,n):\n",
    "            if num [i-1] > num [i]:\n",
    "                flag=True\n",
    "                num[i-1],num[i] = num[i],num[i-1]\n",
    "\n",
    "    return num \n",
    "    \n",
    "print(bubble_sort(ele))    \n",
    "\n"
   ]
  }
 ],
 "metadata": {
  "kernelspec": {
   "display_name": "Python 3",
   "language": "python",
   "name": "python3"
  },
  "language_info": {
   "codemirror_mode": {
    "name": "ipython",
    "version": 3
   },
   "file_extension": ".py",
   "mimetype": "text/x-python",
   "name": "python",
   "nbconvert_exporter": "python",
   "pygments_lexer": "ipython3",
   "version": "3.10.0"
  }
 },
 "nbformat": 4,
 "nbformat_minor": 5
}
