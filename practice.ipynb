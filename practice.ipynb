{
 "cells": [
  {
   "cell_type": "code",
   "execution_count": 21,
   "id": "29de6758",
   "metadata": {},
   "outputs": [
    {
     "name": "stdout",
     "output_type": "stream",
     "text": [
      "[11, 45, 1, 2, 4, 6, 1]\n",
      "[80, 11, 45, 1, 2, 4, 6, 1, 80]\n"
     ]
    }
   ],
   "source": [
    "l=[11,45,1,2,4,6,1]\n",
    "\n",
    "print(l)\n",
    "\n",
    "l.append(80)\n",
    "\n",
    "# l[0]=80\n",
    "l.insert(0,80)\n",
    "print(l)"
   ]
  },
  {
   "cell_type": "code",
   "execution_count": 24,
   "id": "019164ee",
   "metadata": {},
   "outputs": [
    {
     "name": "stdout",
     "output_type": "stream",
     "text": [
      "<class 'tuple'>\n",
      "<class 'tuple'>\n"
     ]
    }
   ],
   "source": [
    "tup=(1,2,3,4,5,6)\n",
    "print(type(tup))\n",
    "\n",
    "marks=(1,)\n",
    "print(type(marks))"
   ]
  },
  {
   "cell_type": "code",
   "execution_count": null,
   "id": "9f3a9be0",
   "metadata": {},
   "outputs": [
    {
     "name": "stdout",
     "output_type": "stream",
     "text": [
      "4.47213595499958\n"
     ]
    }
   ],
   "source": [
    "#square root of a given number\n",
    "\n",
    "square_root=int(input(\"Enter a number:\"))\n",
    "print(square_root**(1/2))"
   ]
  },
  {
   "cell_type": "code",
   "execution_count": 3,
   "id": "39dd4783",
   "metadata": {},
   "outputs": [
    {
     "name": "stdout",
     "output_type": "stream",
     "text": [
      "10.0\n"
     ]
    }
   ],
   "source": [
    "#using maths function\n",
    "import math\n",
    "square_root=int(input(\"Enter a number:\"))\n",
    "print(math.sqrt(square_root))"
   ]
  },
  {
   "cell_type": "code",
   "execution_count": 4,
   "id": "0ff2543d",
   "metadata": {},
   "outputs": [
    {
     "name": "stdout",
     "output_type": "stream",
     "text": [
      "area is : 200.0\n"
     ]
    }
   ],
   "source": [
    "#calculate the area of triangle\n",
    "#formula: (1/2)*base*height\n",
    "area=0.0\n",
    "base=float(input(\"enter base :\"))\n",
    "height=float(input(\"enter height :\"))\n",
    "\n",
    "area=(1/2)*base*height\n",
    "print(\"area is :\",area)\n"
   ]
  },
  {
   "cell_type": "code",
   "execution_count": 6,
   "id": "bc727674",
   "metadata": {},
   "outputs": [
    {
     "name": "stdout",
     "output_type": "stream",
     "text": [
      "before swapping\n",
      "first num: 25 second num: 30\n",
      "after swapping\n",
      "first num: 30 second num: 25\n"
     ]
    }
   ],
   "source": [
    "#swapping of 2 numbers without 3rd var\n",
    "num1=int(input(\"enter first num :\"))\n",
    "num2=int(input(\"enter second num :\"))\n",
    "print(\"before swapping\")\n",
    "print(\"first num:\",num1,\"second num:\",num2)\n",
    "\n",
    "num1,num2=num2,num1\n",
    "print(\"after swapping\")\n",
    "print(\"first num:\",num1,\"second num:\",num2)\n"
   ]
  },
  {
   "cell_type": "code",
   "execution_count": null,
   "id": "f647fcb3",
   "metadata": {},
   "outputs": [
    {
     "name": "stdout",
     "output_type": "stream",
     "text": [
      "it's nuteral\n"
     ]
    }
   ],
   "source": [
    "#check if a number is positive or negative\n",
    "\n",
    "num=int(input(\"enter a num :\"))\n",
    "if num == 0:\n",
    "    print(\"it's nuteral\")\n",
    "elif num > 0:\n",
    "    print(\"positive\")\n",
    "else:\n",
    "    print(\"negative\")    \n",
    "    "
   ]
  },
  {
   "cell_type": "code",
   "execution_count": 16,
   "id": "6b4d9321",
   "metadata": {},
   "outputs": [
    {
     "name": "stdout",
     "output_type": "stream",
     "text": [
      "odd:5\n"
     ]
    }
   ],
   "source": [
    "#check if a number is odd or even\n",
    "\n",
    "num = int(input(\"enter a num\"))\n",
    "\n",
    "if num % 2 == 0:\n",
    "    print(f\"even:{num}\")\n",
    "else:print(f\"odd:{num}\")    "
   ]
  },
  {
   "cell_type": "code",
   "execution_count": 22,
   "id": "4efd1307",
   "metadata": {},
   "outputs": [
    {
     "name": "stdout",
     "output_type": "stream",
     "text": [
      "Not a Leap Year\n"
     ]
    }
   ],
   "source": [
    "#check if leap year or not \n",
    "#so how do we get a leap year \n",
    "#year % 4 == 0 and year % 400 == 0 but year % 100 ! == 0 --> leap year else not a leap year \n",
    "\n",
    "\n",
    "year=int(input(\"enter a year :\"))\n",
    "if year % 4 == 0:\n",
    "    if year % 100 == 0:\n",
    "        if year % 400 == 0:\n",
    "            print(\"LEAP YEAR\")            \n",
    "        else:\n",
    "            print(\"Not a Leap Year\") \n",
    "    else:\n",
    "        print(\"Leap Year\")  \n",
    "else:\n",
    "    print(\"Not a Leap Year\")\n",
    "                 \n",
    "        "
   ]
  },
  {
   "cell_type": "code",
   "execution_count": 29,
   "id": "be964ae2",
   "metadata": {},
   "outputs": [
    {
     "name": "stdout",
     "output_type": "stream",
     "text": [
      "num1 is greater 5\n"
     ]
    }
   ],
   "source": [
    "#find the largest num\n",
    "num1=int(input(\"enter a num :\"))\n",
    "num2=int(input(\"enter second num :\"))\n",
    "num3=int(input(\"enter third num :\"))\n",
    "\n",
    "if num1>num2:\n",
    "    print(\"num1 is greater\",num1)\n",
    "elif num2>num3:\n",
    "    print(\"num2 is greater\",num2)\n",
    "else:\n",
    "    print(\"num3 is greater\",num3)        "
   ]
  },
  {
   "cell_type": "code",
   "execution_count": null,
   "id": "bd5c81e3",
   "metadata": {},
   "outputs": [],
   "source": [
    "#check if number is prime or not\n",
    "\n",
    "num=int(input(\"enter a num :\"))\n",
    "if num==1:\n",
    "    print(\"prime\")\n",
    "\n",
    "elif num>1:\n",
    "    for i in range(2,num):\n",
    "        if num % i == 0:\n",
    "            print(\"not prime\")\n",
    "            break\n",
    "        else:\n",
    "            print(\"prime\")    \n",
    "            break\n",
    "else:print(\"not a prime\")        "
   ]
  }
 ],
 "metadata": {
  "kernelspec": {
   "display_name": "Python 3",
   "language": "python",
   "name": "python3"
  },
  "language_info": {
   "codemirror_mode": {
    "name": "ipython",
    "version": 3
   },
   "file_extension": ".py",
   "mimetype": "text/x-python",
   "name": "python",
   "nbconvert_exporter": "python",
   "pygments_lexer": "ipython3",
   "version": "3.10.0"
  }
 },
 "nbformat": 4,
 "nbformat_minor": 5
}
